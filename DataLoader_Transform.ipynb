{
  "nbformat": 4,
  "nbformat_minor": 0,
  "metadata": {
    "colab": {
      "provenance": []
    },
    "kernelspec": {
      "name": "python3",
      "display_name": "Python 3"
    },
    "language_info": {
      "name": "python"
    }
  },
  "cells": [
    {
      "cell_type": "code",
      "execution_count": 2,
      "metadata": {
        "colab": {
          "base_uri": "https://localhost:8080/"
        },
        "id": "IBbsmFFZJgP_",
        "outputId": "a91c4b9b-77c4-4543-a3d2-2cf927b995b0"
      },
      "outputs": [
        {
          "output_type": "stream",
          "name": "stdout",
          "text": [
            "Mounted at /content/drive\n"
          ]
        }
      ],
      "source": [
        "from google.colab import drive\n",
        "drive.mount('/content/drive')"
      ]
    },
    {
      "cell_type": "code",
      "source": [
        "# DataLoader란 Dataset을 batch기반의 딥러닝모델 학습들 위해 미니배치 형태로 만들어 실제로\n",
        "# 학습할 때 이용할 수 있게 형태를 만들어준다.\n",
        "\n",
        "# ex)\n",
        "# DataLoader(dataset, batch_size=1, shuffle=False, sampler=None,\n",
        "#           batch_sampler=None, num_workers=0, collate_fn=None,\n",
        "#           pin_memory=False, drop_last=False, timeout=0,\n",
        "#           worker_init_fn=None)\n",
        "\n",
        "# batch_size => 각 minibatch의 크기 즉 한번의 배치 안에 있는 샘플 사이즈를 말한다.\n",
        "# shuffle => 매 Epoch마다 데이터셋을 섞어, 데이터가 학습되는 순서를 바꾸는 기능을 말한다.(True 권장.)\n",
        "# num_worker => 동시에 처리하는 프로세서의 수\n",
        "# collate_fn => 이 파라미터를 사용하면 별도의 데이터 처리 함수를 만들 수 있다."
      ],
      "metadata": {
        "id": "0x-UXf3RNfMt"
      },
      "execution_count": null,
      "outputs": []
    },
    {
      "cell_type": "code",
      "source": [
        "from torch.utils.data import Dataloader\n",
        "\n",
        "dataloader = Dataloader(\n",
        "    dataset,\n",
        "    batch_size = 2,\n",
        "    shuffle = True,\n",
        ")"
      ],
      "metadata": {
        "colab": {
          "base_uri": "https://localhost:8080/"
        },
        "id": "2iBTgGJ3KX-H",
        "outputId": "8133b843-49c3-4e90-deb0-962b16a09a0c"
      },
      "execution_count": 14,
      "outputs": [
        {
          "output_type": "execute_result",
          "data": {
            "text/plain": [
              "2"
            ]
          },
          "metadata": {},
          "execution_count": 14
        }
      ]
    },
    {
      "cell_type": "code",
      "source": [
        "\"\"\"\n",
        "Pytorch의 dataloader를 사용하기 위해서는 필요한 input벡터들이 적절히 묶인 형태로\n",
        "데이터 셋을 만들어주어야 한다.\n",
        "이 과정에서는 zip함수를 사용하여도 되고, 파이토치에서 제공하는 TensorDataset함수를\n",
        "사용해도 좋다.\n",
        "\"\"\"\n",
        "\n",
        "import torch\n",
        "from torch.utils.data import TensorDataset\n",
        "\n",
        "# 1. dataset 생성\n",
        "X = torch.tensor([100, 200, 300])\n",
        "Y = torch.tensor([1, 2, 3])\n",
        "\n",
        "print(type(X), type(Y))\n",
        "\n",
        "dataset_zip = list(zip(X, Y))\n",
        "dataset_TD = TensorDataset(X, Y)\n",
        "\n",
        "print(type(dataset_zip), type(dataset_TD))\n",
        "\n",
        "# 2. DataLoader함수 설정(이제 묶은 데이터 셋을 분할해줄 준비)\n",
        "from torch.utils.data import DataLoader\n",
        "\n",
        "dataloader = DataLoader(\n",
        "    dataset_TD, # 위에서 생성한 데이터 셋\n",
        "    batch_size = 2, #1회 당 32개의 데이터씩 분할\n",
        "    shuffle = True # 데이터들의 순서는 섞어서 분할\n",
        ")\n",
        "\n",
        "# 3. 순회를 통해 분할된 데이터를 가져와 사용한다.\n",
        "# DataLoader 객체는 일종의 generator형태로, 인덱싱이 불가능하다 아래처럼 batch단위의 데이터를 가져와 학습에 사용한다.\n",
        "\n",
        "for batch in dataloader:\n",
        "  batch_x = batch[0]\n",
        "  batch_y = batch[1]\n",
        "  print(batch_x, batch_y)\n",
        "  #모델에 직접 학습할 시에는 result = model(batch_x, batch_y)와 같이 넣어준다.\n"
      ],
      "metadata": {
        "colab": {
          "base_uri": "https://localhost:8080/"
        },
        "id": "DXd7VUyoYNYl",
        "outputId": "117b6225-99f4-46af-98ea-eb1dcd944531"
      },
      "execution_count": 33,
      "outputs": [
        {
          "output_type": "stream",
          "name": "stdout",
          "text": [
            "<class 'torch.Tensor'> <class 'torch.Tensor'>\n",
            "<class 'list'> <class 'torch.utils.data.dataset.TensorDataset'>\n",
            "tensor([300, 200]) tensor([3, 2])\n",
            "tensor([100]) tensor([1])\n"
          ]
        }
      ]
    },
    {
      "cell_type": "code",
      "source": [
        "\"\"\"\n",
        "Pytorch의 torchvision 라이브러리는 transforms에서 다양한 변환 기능을 제공한다.\n",
        "transforms을 사용하여 데이터의 일부 조작을 수행하고 훈련에 적합하게 만든다.\n",
        "\n",
        "transforms.ToTensor() - 데이터를 tensor로 바꿔준다.\n",
        "transforms.Normalize(mean, std, inplace=False) - 정규화한다.\n",
        "transforms.ToPILImage() - csv파일로 데이터셋을 받을 경우, PIL image로 바꿔준다.\n",
        "transforms.Compose - 여러 단계로 변환해야 하는 경우, Compose를 통해 여러 단계를 묶을 수 있다.\n",
        "\"\"\""
      ],
      "metadata": {
        "id": "oEeUsxKWKYA7"
      },
      "execution_count": null,
      "outputs": []
    },
    {
      "cell_type": "code",
      "source": [
        "\"\"\"\n",
        "사용자 정의 Transforms.Compose만들기\n",
        "\"\"\"\n",
        "\n",
        "import torch\n",
        "import torch.nn as nn\n",
        "import numpy as np\n",
        "import torch.optim as optim\n",
        "\n",
        "import torchvision\n",
        "import torchvision.transforms as transforms\n",
        "\n",
        "import matplotlib.pyplot as plt\n",
        "%matplotlib inline"
      ],
      "metadata": {
        "id": "0fOPhvVTKYJz"
      },
      "execution_count": 51,
      "outputs": []
    },
    {
      "cell_type": "code",
      "source": [
        "#Cuda가 잘 돌아가는지 확인한다.\n",
        "\n",
        "device = 'cuda' if torch.cuda.is_available() else 'cpu'\n",
        "\n",
        "torch.manual_seed(777)\n",
        "if device == 'cuda':\n",
        "  torch.cuda.manual_seed_all(777)"
      ],
      "metadata": {
        "id": "CXbGOddfKYMt"
      },
      "execution_count": 35,
      "outputs": []
    },
    {
      "cell_type": "code",
      "source": [
        "\"\"\"\n",
        "디폴트 모듈 torchvision.transforms를 이용하면 구현할 수 있지만 custom하는 방법을 알아본다.\n",
        "\"\"\"\n",
        "\n",
        "transform1 = transforms.Compose(\n",
        "    [transforms.ToTensor(),\n",
        "     transforms.Normalize((0.5, 0.5, 0.5), (0.5, 0.5, 0.5))]\n",
        ")\n",
        "\n",
        "trainset = torchvision.datasets.CIFAR10(root='./cifar10', train=True, download=True, transform=transform1)\n",
        "\n",
        "trainloader = torch.utils.data.DataLoader(trainset, batch_size=512, shuffle=True, num_workers=0)\n",
        "\n",
        "testset = torchvision.datasets.CIFAR10(root='./cifar10', train=False, download=True, transform=transform1)\n",
        "\n",
        "testloader = torch.utils.data.DataLoader(testset, batch_size=4, shuffle=False, num_workers=0)\n",
        "\n",
        "classes = ('plane', 'car', 'bird', 'cat', 'deer', 'dog', 'frog', 'horse', 'ship', 'truck')"
      ],
      "metadata": {
        "colab": {
          "base_uri": "https://localhost:8080/"
        },
        "id": "WM-cGLNCbNTP",
        "outputId": "d6365113-e475-48a9-a74a-5a5339d360e8"
      },
      "execution_count": 36,
      "outputs": [
        {
          "output_type": "stream",
          "name": "stdout",
          "text": [
            "Downloading https://www.cs.toronto.edu/~kriz/cifar-10-python.tar.gz to ./cifar10/cifar-10-python.tar.gz\n"
          ]
        },
        {
          "output_type": "stream",
          "name": "stderr",
          "text": [
            "100%|██████████| 170498071/170498071 [00:03<00:00, 42680940.73it/s]\n"
          ]
        },
        {
          "output_type": "stream",
          "name": "stdout",
          "text": [
            "Extracting ./cifar10/cifar-10-python.tar.gz to ./cifar10\n",
            "Files already downloaded and verified\n"
          ]
        }
      ]
    },
    {
      "cell_type": "code",
      "source": [
        "sample = trainset[1][0].numpy()\n",
        "sample.shape"
      ],
      "metadata": {
        "colab": {
          "base_uri": "https://localhost:8080/"
        },
        "id": "Czg-5WRrbNeT",
        "outputId": "5892c669-dd04-4841-d902-ddd475db3cdf"
      },
      "execution_count": 49,
      "outputs": [
        {
          "output_type": "execute_result",
          "data": {
            "text/plain": [
              "(3, 32, 32)"
            ]
          },
          "metadata": {},
          "execution_count": 49
        }
      ]
    },
    {
      "cell_type": "code",
      "source": [
        "sample = trainset[1][0].numpy()\n",
        "sample = np.transpose(sample, (1, 2, 0)) #이는 imshow가(:, :, 3)의 파일을 읽는데 우리의 데이터 셋은 (3, :, :)으로 되어있기 때문.\n",
        "plt.imshow(sample)\n",
        "type(sample)"
      ],
      "metadata": {
        "colab": {
          "base_uri": "https://localhost:8080/",
          "height": 486
        },
        "id": "ndWyRmcbbNnV",
        "outputId": "b3b29c8b-2ea0-44e4-df36-24df2fe751cc"
      },
      "execution_count": 56,
      "outputs": [
        {
          "output_type": "stream",
          "name": "stderr",
          "text": [
            "WARNING:matplotlib.image:Clipping input data to the valid range for imshow with RGB data ([0..1] for floats or [0..255] for integers).\n"
          ]
        },
        {
          "output_type": "execute_result",
          "data": {
            "text/plain": [
              "numpy.ndarray"
            ]
          },
          "metadata": {},
          "execution_count": 56
        },
        {
          "output_type": "display_data",
          "data": {
            "text/plain": [
              "<Figure size 640x480 with 1 Axes>"
            ],
            "image/png": "[encoded data removed]"
          },
          "metadata": {}
        }
      ]
    },
    {
      "cell_type": "code",
      "source": [],
      "metadata": {
        "colab": {
          "base_uri": "https://localhost:8080/"
        },
        "id": "d3muPmTzbN0m",
        "outputId": "496d29cd-0b74-4c79-a237-5373d26cfa56"
      },
      "execution_count": 55,
      "outputs": [
        {
          "output_type": "execute_result",
          "data": {
            "text/plain": [
              "(32, 32, 3)"
            ]
          },
          "metadata": {},
          "execution_count": 55
        }
      ]
    }
  ]
}